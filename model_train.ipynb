{
 "cells": [
  {
   "cell_type": "code",
   "execution_count": 13,
   "id": "initial_id",
   "metadata": {
    "collapsed": true,
    "ExecuteTime": {
     "end_time": "2025-07-05T12:32:46.572822900Z",
     "start_time": "2025-07-05T12:32:46.531247100Z"
    }
   },
   "outputs": [],
   "source": [
    "import numpy as np\n",
    "import pandas as pd\n",
    "from sklearn.pipeline import Pipeline\n",
    "from sklearn.compose import ColumnTransformer\n",
    "from sklearn.preprocessing import StandardScaler, OneHotEncoder\n",
    "from sklearn.ensemble import RandomForestRegressor, GradientBoostingRegressor\n",
    "from sklearn.impute import SimpleImputer\n",
    "from sklearn.pipeline import Pipeline\n",
    "from sklearn.compose import ColumnTransformer\n",
    "from sklearn.model_selection import train_test_split, cross_val_score\n",
    "from sklearn.metrics import mean_absolute_error, mean_squared_error, r2_score\n",
    "from sklearn.preprocessing import OneHotEncoder, StandardScaler\n",
    "from sklearn.linear_model import LinearRegression\n",
    "from lightgbm import LGBMRegressor\n",
    "from xgboost import XGBRegressor\n",
    "from sklearn.ensemble import HistGradientBoostingRegressor\n",
    "from catboost import CatBoostRegressor\n",
    "import joblib"
   ]
  },
  {
   "cell_type": "markdown",
   "source": [
    "## experimental train process\n",
    "i am going to train few regression models evaluate them and pick the best one for the mission"
   ],
   "metadata": {
    "collapsed": false
   },
   "id": "674a919978ce2683"
  },
  {
   "cell_type": "code",
   "outputs": [
    {
     "name": "stdout",
     "output_type": "stream",
     "text": [
      "(40556, 24)\n"
     ]
    },
    {
     "data": {
      "text/plain": "   listing_id upload_date scrape_date     price              title  \\\n0    46544667  2025-05-21  25/05/2025  289999.0  ג'יפ גרנד צ'ירוקי   \n1    72039716  2025-01-09  25/05/2025   62900.0            מאזדה 2   \n2    65607492  2025-05-08  25/05/2025  210000.0      ב מ וו סדרה 7   \n3    74300037  2025-05-24  25/05/2025   46600.0        קיה ספורטז'   \n4    82186481  2025-05-16  25/05/2025   80000.0      מרצדס-בנץ CLA   \n\n   owner_count  mileage       color ownership   test_date  ... seats  \\\n0            2    70000        כסוף     פרטית  2026-01-05  ...     5   \n1            2    88000  אפור מטאלי     פרטית  2026-01-01  ...     5   \n2            3   110000        שחור     פרטית         NaN  ...     5   \n3            2   182000        אפור     פרטית  2026-01-01  ...     5   \n4            5   170000         לבן     פרטית  2026-01-03  ...     5   \n\n  horsepower engine_volume fuel_consumption  drive_type  \\\n0        295        3604.0            10.00         4X4   \n1        116        1496.0            20.83         4X2   \n2        326        1998.0            40.00         4X4   \n3        133        1591.0            14.71         4X2   \n4        211        1991.0            17.24         4X2   \n\n                                                 url  months_on_road  \\\n0  https://www.yad2.co.il/vehicles/item/xh2tdvmd?...              36   \n1  https://www.yad2.co.il/vehicles/item/iizgzpne?...              60   \n2  https://www.yad2.co.il/vehicles/item/vh8136jp?...              83   \n3  https://www.yad2.co.il/vehicles/item/pxog95kb?...             112   \n4  https://www.yad2.co.il/vehicles/item/nxv8x4jj?...             110   \n\n   on_road_year on_road_month months_to_test  \n0          2022             5            8.0  \n1          2020             1           12.0  \n2          2018             6            NaN  \n3          2016             1            8.0  \n4          2016             3            8.0  \n\n[5 rows x 24 columns]",
      "text/html": "<div>\n<style scoped>\n    .dataframe tbody tr th:only-of-type {\n        vertical-align: middle;\n    }\n\n    .dataframe tbody tr th {\n        vertical-align: top;\n    }\n\n    .dataframe thead th {\n        text-align: right;\n    }\n</style>\n<table border=\"1\" class=\"dataframe\">\n  <thead>\n    <tr style=\"text-align: right;\">\n      <th></th>\n      <th>listing_id</th>\n      <th>upload_date</th>\n      <th>scrape_date</th>\n      <th>price</th>\n      <th>title</th>\n      <th>owner_count</th>\n      <th>mileage</th>\n      <th>color</th>\n      <th>ownership</th>\n      <th>test_date</th>\n      <th>...</th>\n      <th>seats</th>\n      <th>horsepower</th>\n      <th>engine_volume</th>\n      <th>fuel_consumption</th>\n      <th>drive_type</th>\n      <th>url</th>\n      <th>months_on_road</th>\n      <th>on_road_year</th>\n      <th>on_road_month</th>\n      <th>months_to_test</th>\n    </tr>\n  </thead>\n  <tbody>\n    <tr>\n      <th>0</th>\n      <td>46544667</td>\n      <td>2025-05-21</td>\n      <td>25/05/2025</td>\n      <td>289999.0</td>\n      <td>ג'יפ גרנד צ'ירוקי</td>\n      <td>2</td>\n      <td>70000</td>\n      <td>כסוף</td>\n      <td>פרטית</td>\n      <td>2026-01-05</td>\n      <td>...</td>\n      <td>5</td>\n      <td>295</td>\n      <td>3604.0</td>\n      <td>10.00</td>\n      <td>4X4</td>\n      <td>https://www.yad2.co.il/vehicles/item/xh2tdvmd?...</td>\n      <td>36</td>\n      <td>2022</td>\n      <td>5</td>\n      <td>8.0</td>\n    </tr>\n    <tr>\n      <th>1</th>\n      <td>72039716</td>\n      <td>2025-01-09</td>\n      <td>25/05/2025</td>\n      <td>62900.0</td>\n      <td>מאזדה 2</td>\n      <td>2</td>\n      <td>88000</td>\n      <td>אפור מטאלי</td>\n      <td>פרטית</td>\n      <td>2026-01-01</td>\n      <td>...</td>\n      <td>5</td>\n      <td>116</td>\n      <td>1496.0</td>\n      <td>20.83</td>\n      <td>4X2</td>\n      <td>https://www.yad2.co.il/vehicles/item/iizgzpne?...</td>\n      <td>60</td>\n      <td>2020</td>\n      <td>1</td>\n      <td>12.0</td>\n    </tr>\n    <tr>\n      <th>2</th>\n      <td>65607492</td>\n      <td>2025-05-08</td>\n      <td>25/05/2025</td>\n      <td>210000.0</td>\n      <td>ב מ וו סדרה 7</td>\n      <td>3</td>\n      <td>110000</td>\n      <td>שחור</td>\n      <td>פרטית</td>\n      <td>NaN</td>\n      <td>...</td>\n      <td>5</td>\n      <td>326</td>\n      <td>1998.0</td>\n      <td>40.00</td>\n      <td>4X4</td>\n      <td>https://www.yad2.co.il/vehicles/item/vh8136jp?...</td>\n      <td>83</td>\n      <td>2018</td>\n      <td>6</td>\n      <td>NaN</td>\n    </tr>\n    <tr>\n      <th>3</th>\n      <td>74300037</td>\n      <td>2025-05-24</td>\n      <td>25/05/2025</td>\n      <td>46600.0</td>\n      <td>קיה ספורטז'</td>\n      <td>2</td>\n      <td>182000</td>\n      <td>אפור</td>\n      <td>פרטית</td>\n      <td>2026-01-01</td>\n      <td>...</td>\n      <td>5</td>\n      <td>133</td>\n      <td>1591.0</td>\n      <td>14.71</td>\n      <td>4X2</td>\n      <td>https://www.yad2.co.il/vehicles/item/pxog95kb?...</td>\n      <td>112</td>\n      <td>2016</td>\n      <td>1</td>\n      <td>8.0</td>\n    </tr>\n    <tr>\n      <th>4</th>\n      <td>82186481</td>\n      <td>2025-05-16</td>\n      <td>25/05/2025</td>\n      <td>80000.0</td>\n      <td>מרצדס-בנץ CLA</td>\n      <td>5</td>\n      <td>170000</td>\n      <td>לבן</td>\n      <td>פרטית</td>\n      <td>2026-01-03</td>\n      <td>...</td>\n      <td>5</td>\n      <td>211</td>\n      <td>1991.0</td>\n      <td>17.24</td>\n      <td>4X2</td>\n      <td>https://www.yad2.co.il/vehicles/item/nxv8x4jj?...</td>\n      <td>110</td>\n      <td>2016</td>\n      <td>3</td>\n      <td>8.0</td>\n    </tr>\n  </tbody>\n</table>\n<p>5 rows × 24 columns</p>\n</div>"
     },
     "execution_count": 14,
     "metadata": {},
     "output_type": "execute_result"
    }
   ],
   "source": [
    "process_df = pd.read_csv(\"C:\\\\Users\\\\moran\\\\personal_projects\\\\vfm_car_finder\\\\VFM_car_finder\\\\processed_data.csv\")\n",
    "print(process_df.shape)\n",
    "process_df.head()"
   ],
   "metadata": {
    "collapsed": false,
    "ExecuteTime": {
     "end_time": "2025-07-05T12:32:46.976618300Z",
     "start_time": "2025-07-05T12:32:46.603629500Z"
    }
   },
   "id": "3501a117fb80eb48",
   "execution_count": 14
  },
  {
   "cell_type": "code",
   "outputs": [
    {
     "name": "stdout",
     "output_type": "stream",
     "text": [
      "(32444, 17)\n",
      "(8112, 17)\n",
      "(32444,)\n",
      "(8112,)\n"
     ]
    },
    {
     "data": {
      "text/plain": "                         title  owner_count  mileage       color ownership  \\\n17518                  מאזדה 3            3   235000         זהב     פרטית   \n30360             טויוטה פריוס            2   330000  כסוף מטאלי     פרטית   \n2004                  רנו קנגו            1   150000    לבן שנהב    ליסינג   \n963                טויוטה RAV4            2    80000   לבן פנינה     פרטית   \n5685                   מאזדה 3            1   187780   אפור עכבר     פרטית   \n...                        ...          ...      ...         ...       ...   \n6265               מאזדה CX-30            1    46000    לבן שנהב     פרטית   \n11284                מיני קופר            3   170000         קרם     פרטית   \n38158            מרצדס-בנץ GLE            2   128000        שחור     פרטית   \n860           ג׳ילי Geometry C            1    30000        כסוף    ליסינג   \n15795  מיצובישי טרייטון / L200            2   295000    לבן שנהב     פרטית   \n\n      transmission       fuel_type         body_type  seats  horsepower  \\\n17518      אוטומטי           בנזין              סדאן      5         105   \n30360      אוטומטי   היברידי בנזין            האצ'בק      5          99   \n2004       אוטומטי           בנזין  מיניוואן קומפקטי      5         115   \n963        אוטומטי   היברידי בנזין          פנאי-שטח      5         155   \n5685       אוטומטי           בנזין              סדאן      5         150   \n...            ...             ...               ...    ...         ...   \n6265       אוטומטי           בנזין          פנאי-שטח      5         165   \n11284      אוטומטי           בנזין            האצ'בק      4         231   \n38158      אוטומטי  פלאג-אין בנזין          פנאי-שטח      5         333   \n860        אוטומטי           חשמלי          פנאי-שטח      5         204   \n15795         ידני            דיזל        דאבל קבינה      5         154   \n\n       engine_volume  fuel_consumption drive_type  months_on_road  \\\n17518         1598.0             13.16        4X2             204   \n30360         1798.0             25.00        4X2             182   \n2004          1197.0             16.39        4X2              82   \n963           2494.0             20.00        4X2              76   \n5685          1999.0             12.66        4X2             191   \n...              ...               ...        ...             ...   \n6265          1998.0             18.18        4X2              49   \n11284         1998.0             17.54        4X2             115   \n38158         2996.0             27.03        4X4              90   \n860              NaN               NaN        4X2              15   \n15795         2442.0             14.49        4X2              96   \n\n       on_road_year  on_road_month  months_to_test  \n17518          2008              1             0.0  \n30360          2010              3             8.0  \n2004           2018              3            12.0  \n963            2019              1             8.0  \n5685           2009              6             0.0  \n...             ...            ...             ...  \n6265           2021              3             9.0  \n11284          2015              8             0.0  \n38158          2017              8             0.0  \n860            2024              3             7.0  \n15795          2017              5             8.0  \n\n[32444 rows x 17 columns]",
      "text/html": "<div>\n<style scoped>\n    .dataframe tbody tr th:only-of-type {\n        vertical-align: middle;\n    }\n\n    .dataframe tbody tr th {\n        vertical-align: top;\n    }\n\n    .dataframe thead th {\n        text-align: right;\n    }\n</style>\n<table border=\"1\" class=\"dataframe\">\n  <thead>\n    <tr style=\"text-align: right;\">\n      <th></th>\n      <th>title</th>\n      <th>owner_count</th>\n      <th>mileage</th>\n      <th>color</th>\n      <th>ownership</th>\n      <th>transmission</th>\n      <th>fuel_type</th>\n      <th>body_type</th>\n      <th>seats</th>\n      <th>horsepower</th>\n      <th>engine_volume</th>\n      <th>fuel_consumption</th>\n      <th>drive_type</th>\n      <th>months_on_road</th>\n      <th>on_road_year</th>\n      <th>on_road_month</th>\n      <th>months_to_test</th>\n    </tr>\n  </thead>\n  <tbody>\n    <tr>\n      <th>17518</th>\n      <td>מאזדה 3</td>\n      <td>3</td>\n      <td>235000</td>\n      <td>זהב</td>\n      <td>פרטית</td>\n      <td>אוטומטי</td>\n      <td>בנזין</td>\n      <td>סדאן</td>\n      <td>5</td>\n      <td>105</td>\n      <td>1598.0</td>\n      <td>13.16</td>\n      <td>4X2</td>\n      <td>204</td>\n      <td>2008</td>\n      <td>1</td>\n      <td>0.0</td>\n    </tr>\n    <tr>\n      <th>30360</th>\n      <td>טויוטה פריוס</td>\n      <td>2</td>\n      <td>330000</td>\n      <td>כסוף מטאלי</td>\n      <td>פרטית</td>\n      <td>אוטומטי</td>\n      <td>היברידי בנזין</td>\n      <td>האצ'בק</td>\n      <td>5</td>\n      <td>99</td>\n      <td>1798.0</td>\n      <td>25.00</td>\n      <td>4X2</td>\n      <td>182</td>\n      <td>2010</td>\n      <td>3</td>\n      <td>8.0</td>\n    </tr>\n    <tr>\n      <th>2004</th>\n      <td>רנו קנגו</td>\n      <td>1</td>\n      <td>150000</td>\n      <td>לבן שנהב</td>\n      <td>ליסינג</td>\n      <td>אוטומטי</td>\n      <td>בנזין</td>\n      <td>מיניוואן קומפקטי</td>\n      <td>5</td>\n      <td>115</td>\n      <td>1197.0</td>\n      <td>16.39</td>\n      <td>4X2</td>\n      <td>82</td>\n      <td>2018</td>\n      <td>3</td>\n      <td>12.0</td>\n    </tr>\n    <tr>\n      <th>963</th>\n      <td>טויוטה RAV4</td>\n      <td>2</td>\n      <td>80000</td>\n      <td>לבן פנינה</td>\n      <td>פרטית</td>\n      <td>אוטומטי</td>\n      <td>היברידי בנזין</td>\n      <td>פנאי-שטח</td>\n      <td>5</td>\n      <td>155</td>\n      <td>2494.0</td>\n      <td>20.00</td>\n      <td>4X2</td>\n      <td>76</td>\n      <td>2019</td>\n      <td>1</td>\n      <td>8.0</td>\n    </tr>\n    <tr>\n      <th>5685</th>\n      <td>מאזדה 3</td>\n      <td>1</td>\n      <td>187780</td>\n      <td>אפור עכבר</td>\n      <td>פרטית</td>\n      <td>אוטומטי</td>\n      <td>בנזין</td>\n      <td>סדאן</td>\n      <td>5</td>\n      <td>150</td>\n      <td>1999.0</td>\n      <td>12.66</td>\n      <td>4X2</td>\n      <td>191</td>\n      <td>2009</td>\n      <td>6</td>\n      <td>0.0</td>\n    </tr>\n    <tr>\n      <th>...</th>\n      <td>...</td>\n      <td>...</td>\n      <td>...</td>\n      <td>...</td>\n      <td>...</td>\n      <td>...</td>\n      <td>...</td>\n      <td>...</td>\n      <td>...</td>\n      <td>...</td>\n      <td>...</td>\n      <td>...</td>\n      <td>...</td>\n      <td>...</td>\n      <td>...</td>\n      <td>...</td>\n      <td>...</td>\n    </tr>\n    <tr>\n      <th>6265</th>\n      <td>מאזדה CX-30</td>\n      <td>1</td>\n      <td>46000</td>\n      <td>לבן שנהב</td>\n      <td>פרטית</td>\n      <td>אוטומטי</td>\n      <td>בנזין</td>\n      <td>פנאי-שטח</td>\n      <td>5</td>\n      <td>165</td>\n      <td>1998.0</td>\n      <td>18.18</td>\n      <td>4X2</td>\n      <td>49</td>\n      <td>2021</td>\n      <td>3</td>\n      <td>9.0</td>\n    </tr>\n    <tr>\n      <th>11284</th>\n      <td>מיני קופר</td>\n      <td>3</td>\n      <td>170000</td>\n      <td>קרם</td>\n      <td>פרטית</td>\n      <td>אוטומטי</td>\n      <td>בנזין</td>\n      <td>האצ'בק</td>\n      <td>4</td>\n      <td>231</td>\n      <td>1998.0</td>\n      <td>17.54</td>\n      <td>4X2</td>\n      <td>115</td>\n      <td>2015</td>\n      <td>8</td>\n      <td>0.0</td>\n    </tr>\n    <tr>\n      <th>38158</th>\n      <td>מרצדס-בנץ GLE</td>\n      <td>2</td>\n      <td>128000</td>\n      <td>שחור</td>\n      <td>פרטית</td>\n      <td>אוטומטי</td>\n      <td>פלאג-אין בנזין</td>\n      <td>פנאי-שטח</td>\n      <td>5</td>\n      <td>333</td>\n      <td>2996.0</td>\n      <td>27.03</td>\n      <td>4X4</td>\n      <td>90</td>\n      <td>2017</td>\n      <td>8</td>\n      <td>0.0</td>\n    </tr>\n    <tr>\n      <th>860</th>\n      <td>ג׳ילי Geometry C</td>\n      <td>1</td>\n      <td>30000</td>\n      <td>כסוף</td>\n      <td>ליסינג</td>\n      <td>אוטומטי</td>\n      <td>חשמלי</td>\n      <td>פנאי-שטח</td>\n      <td>5</td>\n      <td>204</td>\n      <td>NaN</td>\n      <td>NaN</td>\n      <td>4X2</td>\n      <td>15</td>\n      <td>2024</td>\n      <td>3</td>\n      <td>7.0</td>\n    </tr>\n    <tr>\n      <th>15795</th>\n      <td>מיצובישי טרייטון / L200</td>\n      <td>2</td>\n      <td>295000</td>\n      <td>לבן שנהב</td>\n      <td>פרטית</td>\n      <td>ידני</td>\n      <td>דיזל</td>\n      <td>דאבל קבינה</td>\n      <td>5</td>\n      <td>154</td>\n      <td>2442.0</td>\n      <td>14.49</td>\n      <td>4X2</td>\n      <td>96</td>\n      <td>2017</td>\n      <td>5</td>\n      <td>8.0</td>\n    </tr>\n  </tbody>\n</table>\n<p>32444 rows × 17 columns</p>\n</div>"
     },
     "execution_count": 15,
     "metadata": {},
     "output_type": "execute_result"
    }
   ],
   "source": [
    "# Columns to exclude\n",
    "exclude_cols = ['listing_id', 'url', 'scrape_date', 'upload_date', 'test_date', 'on_road_date']\n",
    "\n",
    "# Define features and target\n",
    "features = [col for col in process_df.columns if col not in exclude_cols + ['price']]\n",
    "x = process_df[features]\n",
    "y = process_df['price']\n",
    "    \n",
    "# Split the data\n",
    "x_train, x_test, y_train, y_test = train_test_split(\n",
    "    x, y,\n",
    "    test_size=0.2,         # 20% for testing\n",
    "    random_state=42,       # Ensures reproducibility\n",
    "    shuffle=True           # Shuffle data before splitting\n",
    ")\n",
    "\n",
    "categorical_features = ['title', 'color', 'transmission', 'fuel_type', 'body_type', 'ownership']\n",
    "for col in categorical_features:\n",
    "    x_train[col] = x_train[col].astype('category')\n",
    "    x_test[col] = x_test[col].astype('category')\n",
    "\n",
    "\n",
    "print(x_train.shape)\n",
    "print(x_test.shape)\n",
    "print(y_train.shape)\n",
    "print(y_test.shape)\n",
    "x_train"
   ],
   "metadata": {
    "collapsed": false,
    "ExecuteTime": {
     "end_time": "2025-07-05T12:32:47.102026100Z",
     "start_time": "2025-07-05T12:32:46.987584300Z"
    }
   },
   "id": "aa2bcc3cc62df7e9",
   "execution_count": 15
  },
  {
   "cell_type": "code",
   "outputs": [
    {
     "data": {
      "text/plain": "['title', 'color', 'transmission', 'fuel_type', 'body_type', 'ownership']"
     },
     "execution_count": 16,
     "metadata": {},
     "output_type": "execute_result"
    }
   ],
   "source": [
    "['owner_count', 'mileage', 'seats', 'horsepower', 'engine_volume', 'fuel_consumption' , 'on_road_year', 'on_road_month', 'months_to_test']\n",
    "['title', 'color', 'transmission', 'fuel_type', 'body_type', 'ownership']"
   ],
   "metadata": {
    "collapsed": false,
    "ExecuteTime": {
     "end_time": "2025-07-05T12:32:47.131809Z",
     "start_time": "2025-07-05T12:32:47.104411600Z"
    }
   },
   "id": "63ddeea4cbb4d074",
   "execution_count": 16
  },
  {
   "cell_type": "markdown",
   "source": [
    "in the last part we saw a closer to linear relation of the price with sqrt(milage) so i will try 2 train data frame with sqrt and without"
   ],
   "metadata": {
    "collapsed": false
   },
   "id": "c40ca9173c92454d"
  },
  {
   "cell_type": "code",
   "outputs": [
    {
     "name": "stdout",
     "output_type": "stream",
     "text": [
      "(32444, 17)\n",
      "(8112, 17)\n"
     ]
    }
   ],
   "source": [
    "x_sqrt_train = x_train.copy()\n",
    "x_sqrt_test = x_test.copy()\n",
    "\n",
    "x_sqrt_train['sqrt_milage'] = np.sqrt(x_sqrt_train['mileage']) \n",
    "x_sqrt_train.drop(['mileage'], axis=1, inplace=True)\n",
    "\n",
    "x_sqrt_test['sqrt_milage'] = np.sqrt(x_sqrt_test['mileage']) \n",
    "x_sqrt_test.drop(['mileage'], axis=1, inplace=True)\n",
    "\n",
    "print(x_sqrt_train.shape)\n",
    "print(x_sqrt_test.shape)"
   ],
   "metadata": {
    "collapsed": false,
    "ExecuteTime": {
     "end_time": "2025-07-05T12:32:47.203621600Z",
     "start_time": "2025-07-05T12:32:47.120295600Z"
    }
   },
   "id": "d84e249a3f100528",
   "execution_count": 17
  },
  {
   "cell_type": "markdown",
   "source": [
    "creat preprocess pipline to fill missing values"
   ],
   "metadata": {
    "collapsed": false
   },
   "id": "a6373218eef72e62"
  },
  {
   "cell_type": "code",
   "outputs": [],
   "source": [
    "# STEP 1: Define your features\n",
    "numeric_features = ['owner_count', 'mileage', 'seats', 'horsepower', 'engine_volume',\n",
    "                    'fuel_consumption', 'on_road_year', 'on_road_month', 'months_to_test']\n",
    "categorical_features = ['title', 'color', 'transmission', 'fuel_type', 'body_type', 'ownership']\n",
    "\n",
    "\n",
    "\n",
    "numeric_features_sqrt = ['owner_count', 'sqrt_milage', 'seats', 'horsepower', 'engine_volume',\n",
    "                         'fuel_consumption', 'on_road_year', 'on_road_month', 'months_to_test']\n",
    "\n",
    "# STEP 2: Define your pipelines\n",
    "numeric_pipeline = Pipeline([\n",
    "    ('imputer', SimpleImputer(strategy='median')),\n",
    "])\n",
    "\n",
    "categorical_pipeline = Pipeline([\n",
    "    ('imputer', SimpleImputer(strategy='most_frequent'))\n",
    "])\n",
    "\n",
    "# STEP 3: ColumnTransformers for both variants\n",
    "preprocessor_raw = ColumnTransformer([\n",
    "    ('num', numeric_pipeline, numeric_features),\n",
    "    ('cat', categorical_pipeline, categorical_features)\n",
    "])\n",
    "\n",
    "preprocessor_sqrt = ColumnTransformer([\n",
    "    ('num', numeric_pipeline, numeric_features_sqrt),\n",
    "    ('cat', categorical_pipeline, categorical_features)\n",
    "])\n",
    "\n",
    "# STEP 4: FIT the pipelines and TRANSFORM the raw data\n",
    "# IMPORTANT: fit only on TRAINING data\n",
    "preprocessor_raw.fit(x_train)\n",
    "x_train_arr = preprocessor_raw.transform(x_train)\n",
    "x_test_arr = preprocessor_raw.transform(x_test)\n",
    "\n",
    "preprocessor_sqrt.fit(x_sqrt_train)\n",
    "x_sqrt_train_arr = preprocessor_sqrt.transform(x_sqrt_train)\n",
    "x_sqrt_test_arr = preprocessor_sqrt.transform(x_sqrt_test)\n",
    "\n",
    "# STEP 5: Convert arrays back to DataFrames with column names\n",
    "x_train = pd.DataFrame(x_train_arr, columns=numeric_features + categorical_features)\n",
    "x_test = pd.DataFrame(x_test_arr, columns=numeric_features + categorical_features)\n",
    "x_sqrt_train = pd.DataFrame(x_sqrt_train_arr, columns=numeric_features_sqrt + categorical_features)\n",
    "x_sqrt_test = pd.DataFrame(x_sqrt_test_arr, columns=numeric_features_sqrt + categorical_features)\n",
    "\n",
    "# STEP 6: Mark categorical columns as category dtype (for LightGBM, XGBoost, etc.)\n",
    "for col in categorical_features:\n",
    "    x_train[col] = x_train[col].astype('category')\n",
    "    x_test[col] = x_test[col].astype('category')\n",
    "    x_sqrt_train[col] = x_sqrt_train[col].astype('category')\n",
    "    x_sqrt_test[col] = x_sqrt_test[col].astype('category')\n",
    "\n",
    "for col in numeric_features:\n",
    "    x_train[col] = x_train[col].astype('float')\n",
    "    x_test[col] = x_test[col].astype('float')\n",
    "\n",
    "for col in numeric_features_sqrt:\n",
    "    x_sqrt_train[col] = x_sqrt_train[col].astype('float')\n",
    "    x_sqrt_test[col] = x_sqrt_test[col].astype('float')    "
   ],
   "metadata": {
    "collapsed": false,
    "ExecuteTime": {
     "end_time": "2025-07-05T12:32:47.504581800Z",
     "start_time": "2025-07-05T12:32:47.180943200Z"
    }
   },
   "id": "7286a0617bb4ce8",
   "execution_count": 18
  },
  {
   "cell_type": "markdown",
   "source": [
    "# build a basline model \n",
    "I chose to use simple linear regression model only on the numeric features that will use as a baseline to test the more advanced models"
   ],
   "metadata": {
    "collapsed": false
   },
   "id": "5e6d6a52cded4e6b"
  },
  {
   "cell_type": "code",
   "outputs": [
    {
     "name": "stdout",
     "output_type": "stream",
     "text": [
      "🔹 Numeric-Only Baseline (True Numeric Columns Only)\n",
      "MAE:  31056.18\n",
      "RMSE: 3171735514.51\n",
      "R²:   0.6182\n"
     ]
    }
   ],
   "source": [
    "x_train_numeric_only = x_train[numeric_features]\n",
    "x_test_numeric_only = x_test[numeric_features]\n",
    "\n",
    "numeric_only_pipeline = Pipeline([\n",
    "    ('imputer', SimpleImputer(strategy='median')),\n",
    "    ('scaler', StandardScaler()),\n",
    "    ('regressor', LinearRegression())\n",
    "])\n",
    "\n",
    "numeric_only_pipeline.fit(x_train_numeric_only, y_train)\n",
    "y_pred = numeric_only_pipeline.predict(x_test_numeric_only)\n",
    "\n",
    "print(\"🔹 Numeric-Only Baseline (True Numeric Columns Only)\")\n",
    "print(f\"MAE:  {mean_absolute_error(y_test, y_pred):.2f}\")\n",
    "print(f\"RMSE: {mean_squared_error(y_test, y_pred):.2f}\")\n",
    "print(f\"R²:   {r2_score(y_test, y_pred):.4f}\")"
   ],
   "metadata": {
    "collapsed": false,
    "ExecuteTime": {
     "end_time": "2025-07-05T12:32:47.581277100Z",
     "start_time": "2025-07-05T12:32:47.512109600Z"
    }
   },
   "id": "9a8ee2441a96f352",
   "execution_count": 19
  },
  {
   "cell_type": "markdown",
   "source": [
    "### evaluate a few models that can handle categorical features on their default to pick one for fine tuning"
   ],
   "metadata": {
    "collapsed": false
   },
   "id": "3587cbab7ad4ebaa"
  },
  {
   "cell_type": "code",
   "outputs": [],
   "source": [
    "def evaluate(model, x_test, y_test, label=\"\"):\n",
    "    # Predict\n",
    "    y_pred = model.predict(x_test)\n",
    "    \n",
    "    # Evaluate\n",
    "    mae = mean_absolute_error(y_test, y_pred)\n",
    "    rmse = np.sqrt(mean_squared_error(y_test, y_pred))\n",
    "    r2 = r2_score(y_test, y_pred)\n",
    "    \n",
    "    print(f\"🔹 Results for: {label}\")\n",
    "    print(f\"MAE:  {mae:.2f}\")\n",
    "    print(f\"RMSE: {rmse:.2f}\")\n",
    "    print(f\"R²:   {r2:.4f}\\n\")\n",
    "    \n",
    "    return model  # Return trained model if needed\n"
   ],
   "metadata": {
    "collapsed": false,
    "ExecuteTime": {
     "end_time": "2025-07-05T12:32:47.610527200Z",
     "start_time": "2025-07-05T12:32:47.582330300Z"
    }
   },
   "id": "99adeee22618fc5a",
   "execution_count": 20
  },
  {
   "cell_type": "code",
   "outputs": [
    {
     "data": {
      "text/plain": "       owner_count   mileage  seats  horsepower  engine_volume  \\\n0              3.0  235000.0    5.0       105.0         1598.0   \n1              2.0  330000.0    5.0        99.0         1798.0   \n2              1.0  150000.0    5.0       115.0         1197.0   \n3              2.0   80000.0    5.0       155.0         2494.0   \n4              1.0  187780.0    5.0       150.0         1999.0   \n...            ...       ...    ...         ...            ...   \n32439          1.0   46000.0    5.0       165.0         1998.0   \n32440          3.0  170000.0    4.0       231.0         1998.0   \n32441          2.0  128000.0    5.0       333.0         2996.0   \n32442          1.0   30000.0    5.0       204.0         1591.0   \n32443          2.0  295000.0    5.0       154.0         2442.0   \n\n       fuel_consumption  on_road_year  on_road_month  months_to_test  \\\n0                 13.16        2008.0            1.0             0.0   \n1                 25.00        2010.0            3.0             8.0   \n2                 16.39        2018.0            3.0            12.0   \n3                 20.00        2019.0            1.0             8.0   \n4                 12.66        2009.0            6.0             0.0   \n...                 ...           ...            ...             ...   \n32439             18.18        2021.0            3.0             9.0   \n32440             17.54        2015.0            8.0             0.0   \n32441             27.03        2017.0            8.0             0.0   \n32442             16.67        2024.0            3.0             7.0   \n32443             14.49        2017.0            5.0             8.0   \n\n                         title       color transmission       fuel_type  \\\n0                      מאזדה 3         זהב      אוטומטי           בנזין   \n1                 טויוטה פריוס  כסוף מטאלי      אוטומטי   היברידי בנזין   \n2                     רנו קנגו    לבן שנהב      אוטומטי           בנזין   \n3                  טויוטה RAV4   לבן פנינה      אוטומטי   היברידי בנזין   \n4                      מאזדה 3   אפור עכבר      אוטומטי           בנזין   \n...                        ...         ...          ...             ...   \n32439              מאזדה CX-30    לבן שנהב      אוטומטי           בנזין   \n32440                מיני קופר         קרם      אוטומטי           בנזין   \n32441            מרצדס-בנץ GLE        שחור      אוטומטי  פלאג-אין בנזין   \n32442         ג׳ילי Geometry C        כסוף      אוטומטי           חשמלי   \n32443  מיצובישי טרייטון / L200    לבן שנהב         ידני            דיזל   \n\n              body_type ownership  \n0                  סדאן     פרטית  \n1                האצ'בק     פרטית  \n2      מיניוואן קומפקטי    ליסינג  \n3              פנאי-שטח     פרטית  \n4                  סדאן     פרטית  \n...                 ...       ...  \n32439          פנאי-שטח     פרטית  \n32440            האצ'בק     פרטית  \n32441          פנאי-שטח     פרטית  \n32442          פנאי-שטח    ליסינג  \n32443        דאבל קבינה     פרטית  \n\n[32444 rows x 15 columns]",
      "text/html": "<div>\n<style scoped>\n    .dataframe tbody tr th:only-of-type {\n        vertical-align: middle;\n    }\n\n    .dataframe tbody tr th {\n        vertical-align: top;\n    }\n\n    .dataframe thead th {\n        text-align: right;\n    }\n</style>\n<table border=\"1\" class=\"dataframe\">\n  <thead>\n    <tr style=\"text-align: right;\">\n      <th></th>\n      <th>owner_count</th>\n      <th>mileage</th>\n      <th>seats</th>\n      <th>horsepower</th>\n      <th>engine_volume</th>\n      <th>fuel_consumption</th>\n      <th>on_road_year</th>\n      <th>on_road_month</th>\n      <th>months_to_test</th>\n      <th>title</th>\n      <th>color</th>\n      <th>transmission</th>\n      <th>fuel_type</th>\n      <th>body_type</th>\n      <th>ownership</th>\n    </tr>\n  </thead>\n  <tbody>\n    <tr>\n      <th>0</th>\n      <td>3.0</td>\n      <td>235000.0</td>\n      <td>5.0</td>\n      <td>105.0</td>\n      <td>1598.0</td>\n      <td>13.16</td>\n      <td>2008.0</td>\n      <td>1.0</td>\n      <td>0.0</td>\n      <td>מאזדה 3</td>\n      <td>זהב</td>\n      <td>אוטומטי</td>\n      <td>בנזין</td>\n      <td>סדאן</td>\n      <td>פרטית</td>\n    </tr>\n    <tr>\n      <th>1</th>\n      <td>2.0</td>\n      <td>330000.0</td>\n      <td>5.0</td>\n      <td>99.0</td>\n      <td>1798.0</td>\n      <td>25.00</td>\n      <td>2010.0</td>\n      <td>3.0</td>\n      <td>8.0</td>\n      <td>טויוטה פריוס</td>\n      <td>כסוף מטאלי</td>\n      <td>אוטומטי</td>\n      <td>היברידי בנזין</td>\n      <td>האצ'בק</td>\n      <td>פרטית</td>\n    </tr>\n    <tr>\n      <th>2</th>\n      <td>1.0</td>\n      <td>150000.0</td>\n      <td>5.0</td>\n      <td>115.0</td>\n      <td>1197.0</td>\n      <td>16.39</td>\n      <td>2018.0</td>\n      <td>3.0</td>\n      <td>12.0</td>\n      <td>רנו קנגו</td>\n      <td>לבן שנהב</td>\n      <td>אוטומטי</td>\n      <td>בנזין</td>\n      <td>מיניוואן קומפקטי</td>\n      <td>ליסינג</td>\n    </tr>\n    <tr>\n      <th>3</th>\n      <td>2.0</td>\n      <td>80000.0</td>\n      <td>5.0</td>\n      <td>155.0</td>\n      <td>2494.0</td>\n      <td>20.00</td>\n      <td>2019.0</td>\n      <td>1.0</td>\n      <td>8.0</td>\n      <td>טויוטה RAV4</td>\n      <td>לבן פנינה</td>\n      <td>אוטומטי</td>\n      <td>היברידי בנזין</td>\n      <td>פנאי-שטח</td>\n      <td>פרטית</td>\n    </tr>\n    <tr>\n      <th>4</th>\n      <td>1.0</td>\n      <td>187780.0</td>\n      <td>5.0</td>\n      <td>150.0</td>\n      <td>1999.0</td>\n      <td>12.66</td>\n      <td>2009.0</td>\n      <td>6.0</td>\n      <td>0.0</td>\n      <td>מאזדה 3</td>\n      <td>אפור עכבר</td>\n      <td>אוטומטי</td>\n      <td>בנזין</td>\n      <td>סדאן</td>\n      <td>פרטית</td>\n    </tr>\n    <tr>\n      <th>...</th>\n      <td>...</td>\n      <td>...</td>\n      <td>...</td>\n      <td>...</td>\n      <td>...</td>\n      <td>...</td>\n      <td>...</td>\n      <td>...</td>\n      <td>...</td>\n      <td>...</td>\n      <td>...</td>\n      <td>...</td>\n      <td>...</td>\n      <td>...</td>\n      <td>...</td>\n    </tr>\n    <tr>\n      <th>32439</th>\n      <td>1.0</td>\n      <td>46000.0</td>\n      <td>5.0</td>\n      <td>165.0</td>\n      <td>1998.0</td>\n      <td>18.18</td>\n      <td>2021.0</td>\n      <td>3.0</td>\n      <td>9.0</td>\n      <td>מאזדה CX-30</td>\n      <td>לבן שנהב</td>\n      <td>אוטומטי</td>\n      <td>בנזין</td>\n      <td>פנאי-שטח</td>\n      <td>פרטית</td>\n    </tr>\n    <tr>\n      <th>32440</th>\n      <td>3.0</td>\n      <td>170000.0</td>\n      <td>4.0</td>\n      <td>231.0</td>\n      <td>1998.0</td>\n      <td>17.54</td>\n      <td>2015.0</td>\n      <td>8.0</td>\n      <td>0.0</td>\n      <td>מיני קופר</td>\n      <td>קרם</td>\n      <td>אוטומטי</td>\n      <td>בנזין</td>\n      <td>האצ'בק</td>\n      <td>פרטית</td>\n    </tr>\n    <tr>\n      <th>32441</th>\n      <td>2.0</td>\n      <td>128000.0</td>\n      <td>5.0</td>\n      <td>333.0</td>\n      <td>2996.0</td>\n      <td>27.03</td>\n      <td>2017.0</td>\n      <td>8.0</td>\n      <td>0.0</td>\n      <td>מרצדס-בנץ GLE</td>\n      <td>שחור</td>\n      <td>אוטומטי</td>\n      <td>פלאג-אין בנזין</td>\n      <td>פנאי-שטח</td>\n      <td>פרטית</td>\n    </tr>\n    <tr>\n      <th>32442</th>\n      <td>1.0</td>\n      <td>30000.0</td>\n      <td>5.0</td>\n      <td>204.0</td>\n      <td>1591.0</td>\n      <td>16.67</td>\n      <td>2024.0</td>\n      <td>3.0</td>\n      <td>7.0</td>\n      <td>ג׳ילי Geometry C</td>\n      <td>כסוף</td>\n      <td>אוטומטי</td>\n      <td>חשמלי</td>\n      <td>פנאי-שטח</td>\n      <td>ליסינג</td>\n    </tr>\n    <tr>\n      <th>32443</th>\n      <td>2.0</td>\n      <td>295000.0</td>\n      <td>5.0</td>\n      <td>154.0</td>\n      <td>2442.0</td>\n      <td>14.49</td>\n      <td>2017.0</td>\n      <td>5.0</td>\n      <td>8.0</td>\n      <td>מיצובישי טרייטון / L200</td>\n      <td>לבן שנהב</td>\n      <td>ידני</td>\n      <td>דיזל</td>\n      <td>דאבל קבינה</td>\n      <td>פרטית</td>\n    </tr>\n  </tbody>\n</table>\n<p>32444 rows × 15 columns</p>\n</div>"
     },
     "execution_count": 21,
     "metadata": {},
     "output_type": "execute_result"
    }
   ],
   "source": [
    "x_train"
   ],
   "metadata": {
    "collapsed": false,
    "ExecuteTime": {
     "end_time": "2025-07-05T12:32:47.630830800Z",
     "start_time": "2025-07-05T12:32:47.612898200Z"
    }
   },
   "id": "dc404a64f345edd2",
   "execution_count": 21
  },
  {
   "cell_type": "code",
   "outputs": [
    {
     "name": "stdout",
     "output_type": "stream",
     "text": [
      "x_train:  owner_count          float64\n",
      "mileage              float64\n",
      "seats                float64\n",
      "horsepower           float64\n",
      "engine_volume        float64\n",
      "fuel_consumption     float64\n",
      "on_road_year         float64\n",
      "on_road_month        float64\n",
      "months_to_test       float64\n",
      "title               category\n",
      "color               category\n",
      "transmission        category\n",
      "fuel_type           category\n",
      "body_type           category\n",
      "ownership           category\n",
      "dtype: object\n",
      "x_test:  owner_count          float64\n",
      "mileage              float64\n",
      "seats                float64\n",
      "horsepower           float64\n",
      "engine_volume        float64\n",
      "fuel_consumption     float64\n",
      "on_road_year         float64\n",
      "on_road_month        float64\n",
      "months_to_test       float64\n",
      "title               category\n",
      "color               category\n",
      "transmission        category\n",
      "fuel_type           category\n",
      "body_type           category\n",
      "ownership           category\n",
      "dtype: object\n"
     ]
    }
   ],
   "source": [
    "print('x_train: ', x_train.dtypes)\n",
    "print('x_test: ', x_test.dtypes)\n"
   ],
   "metadata": {
    "collapsed": false,
    "ExecuteTime": {
     "end_time": "2025-07-05T12:32:47.667900900Z",
     "start_time": "2025-07-05T12:32:47.630830800Z"
    }
   },
   "id": "e642add45c512f0c",
   "execution_count": 22
  },
  {
   "cell_type": "code",
   "outputs": [
    {
     "name": "stdout",
     "output_type": "stream",
     "text": [
      "🔹 Results for: LightGBM - Raw Mileage\n",
      "MAE:  12998.50\n",
      "RMSE: 28977.61\n",
      "R²:   0.8989\n",
      "\n",
      "🔹 Results for: XGBoost - Raw Mileage\n",
      "MAE:  39302.35\n",
      "RMSE: 73164.30\n",
      "R²:   0.3557\n",
      "\n",
      "🔹 Results for: CatBoost - Raw Mileage\n",
      "MAE:  16540.86\n",
      "RMSE: 34048.81\n",
      "R²:   0.8605\n",
      "🔹 Results for: LightGBM - Sqrt Mileage\n",
      "MAE:  12998.50\n",
      "RMSE: 28977.61\n",
      "R²:   0.8989\n",
      "\n",
      "🔹 Results for: XGBoost - Sqrt Mileage\n",
      "MAE:  39302.35\n",
      "RMSE: 73164.30\n",
      "R²:   0.3557\n",
      "\n",
      "🔹 Results for: CatBoost - Sqrt Mileage\n",
      "MAE:  16540.86\n",
      "RMSE: 34048.81\n",
      "R²:   0.8605\n"
     ]
    }
   ],
   "source": [
    "models = {\n",
    "    \"LightGBM\": LGBMRegressor(\n",
    "        n_estimators=100, learning_rate=0.1, max_depth=3, random_state=42,verbosity=-1\n",
    "    ),\n",
    "    \"XGBoost\": XGBRegressor(\n",
    "        n_estimators=100, learning_rate=0.1, max_depth=3,\n",
    "        random_state=42, enable_categorical=True\n",
    "    ),\n",
    "    \"CatBoost\": CatBoostRegressor(\n",
    "        iterations=100, learning_rate=0.1, depth=6, verbose=0, random_state=42\n",
    "    )\n",
    "}\n",
    "\n",
    "models[\"LightGBM\"].fit(x_train, y_train)\n",
    "models[\"XGBoost\"].fit(x_train, y_train)\n",
    "\n",
    "cat_features = x_train.select_dtypes(include=\"category\").columns.tolist()\n",
    "models[\"CatBoost\"].fit(x_train, y_train, cat_features=cat_features)\n",
    "\n",
    "\n",
    "for name, model in models.items():\n",
    "    evaluate(model, x_test, y_test, label=f\"{name} - Raw Mileage\")\n",
    "    # evaluate(model, x_sqrt_train, x_sqrt_test, y_train, y_test, label=f\"{name} - Sqrt Mileage\")\n",
    "\n",
    "models[\"LightGBM\"].fit(x_sqrt_train, y_train)\n",
    "models[\"XGBoost\"].fit(x_sqrt_train, y_train)\n",
    "\n",
    "cat_features = x_train.select_dtypes(include=\"category\").columns.tolist()\n",
    "models[\"CatBoost\"].fit(x_sqrt_train, y_train, cat_features=cat_features)\n",
    "\n",
    "for name, model in models.items():\n",
    "    evaluate(model, x_sqrt_test, y_test, label=f\"{name} - Sqrt Mileage\")    \n"
   ],
   "metadata": {
    "collapsed": false,
    "ExecuteTime": {
     "end_time": "2025-07-05T12:32:56.045340400Z",
     "start_time": "2025-07-05T12:32:47.647960900Z"
    }
   },
   "id": "d8d9d00e2e77aa78",
   "execution_count": 23
  },
  {
   "cell_type": "markdown",
   "source": [
    "catBoost and LightGBM are way better than the baseline model and the XGBoost.\n",
    "also there is no significant difference in the sqrt features so i will keep going with the catBoost and LightGBM in the model_train_2 notebook"
   ],
   "metadata": {
    "collapsed": false
   },
   "id": "5a5a77e435c2e995"
  }
 ],
 "metadata": {
  "kernelspec": {
   "display_name": "Python 3",
   "language": "python",
   "name": "python3"
  },
  "language_info": {
   "codemirror_mode": {
    "name": "ipython",
    "version": 2
   },
   "file_extension": ".py",
   "mimetype": "text/x-python",
   "name": "python",
   "nbconvert_exporter": "python",
   "pygments_lexer": "ipython2",
   "version": "2.7.6"
  }
 },
 "nbformat": 4,
 "nbformat_minor": 5
}
